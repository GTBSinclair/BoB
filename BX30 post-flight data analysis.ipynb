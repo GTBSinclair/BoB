{
 "cells": [
  {
   "cell_type": "code",
   "execution_count": 1,
   "metadata": {},
   "outputs": [],
   "source": [
    "import csv\n",
    "from collections import defaultdict\n",
    "import numpy as np\n",
    "import matplotlib.pyplot as plt\n",
    "from matplotlib.patches import ConnectionPatch\n",
    "\n",
    "A = []\n",
    "\n",
    "with open('bob_BX30_flight_data.csv') as csv_file:\n",
    "    csv_reader = csv.reader(csv_file, delimiter=',')\n",
    "    line_count = 0\n",
    "    for row in csv_reader:\n",
    "        #print(f'\\t{row}')\n",
    "        A.append(row)\n",
    "        line_count += 1"
   ]
  },
  {
   "cell_type": "code",
   "execution_count": 2,
   "metadata": {},
   "outputs": [
    {
     "name": "stdout",
     "output_type": "stream",
     "text": [
      "['0 time', '1 id', '2 idSession', '3 temp3 - Disc', '4 pwmHeater1', '5 tcsMem1', '6 temp4 - Fluid', '7 pwmHeater2', '8 tcsMem2', '9 temp5 - Valves', '10 pwmHeater3', '11 tcsMem3', '12 temp1', '13 temp2', '14 temp6', '15 temp8', '16 temp7', '17 tempBME', '18 pressure1', '19 humidity', '20 motorLastPos', '21 motorCurPos', '22 motorTargetPos', '23 motorMoving', '24 chamberAligned', '25 motorError', '26 pdiode1', '27 pdiode2', '28 volt2', '29 volt3', '30 currentRef', '31 currentV', '32 heater1energy', '33 heater2energy', '34 heater3energy', '35 flightStage', '36 curOperation', '37 countdown', '38 armed', '39 mode', '40 maxBandwidth', '41 flowRate', '42 liqBubble', '43 valve1', '44 valve2', '45 valve3', '46 valve4', '47 valve5', '48 valve6', '49 pump', '50 pumpTimeTotal', '51 pumpTimeElapsed', '52 imaging', '53 downlink', '54 shutdownLock', '55 allowSoftReset', '56 healthCamera', '57 healthBME', '58 healthGPIO', '59 healthFlow', '60 healthMCU', '61 h1t1', '62 h1t2', '63 h1t3', '64 h1t4', '65 h2t1', '66 h2t2', '67 h2t3', '68 h2t4', '69 h3t1', '70 h3t2', '71 h3t3', '72 h3t4', '73 h1p1', '74 h1p2', '75 h1p3', '76 h1p4', '77 h2p1', '78 h2p2', '79 h2p3', '80 h2p4', '81 h3p1', '82 h3p2', '83 h3p3', '84 h3p4']\n"
     ]
    }
   ],
   "source": [
    "# Adding easy indexing for the column headers\n",
    "\n",
    "A0 = []\n",
    "x = -1\n",
    "\n",
    "for i in range(len(A[0])):\n",
    "    x += 1\n",
    "    A0.append(str(x)+ ' ' +A[0][i])\n",
    "    \n",
    "print(A0)"
   ]
  },
  {
   "cell_type": "code",
   "execution_count": 3,
   "metadata": {},
   "outputs": [],
   "source": [
    "# CONVERTING TRUEs AND FALSEs to 1s and 0s respectively so they can be plotted\n",
    "\n",
    "for i in range(len(A)):\n",
    "    for j in range(len(A[0])):\n",
    "        if A[i][j] == 'True':\n",
    "            A[i][j] = 1\n",
    "        elif A[i][j] == 'False':\n",
    "            A[i][j] = 0\n",
    "        else:\n",
    "            pass"
   ]
  },
  {
   "cell_type": "code",
   "execution_count": 4,
   "metadata": {},
   "outputs": [],
   "source": [
    "Time = []\n",
    "Pdiode1 = []\n",
    "Pdiode2 = []\n",
    "for i in range(len(A)-1):\n",
    "    Time.append(int(A[i+1][0])-int(1632867500))\n",
    "    Pdiode1.append(round(float(A[i+1][26]),3))\n",
    "    Pdiode2.append(round(float(A[i+1][27]),3))"
   ]
  },
  {
   "cell_type": "code",
   "execution_count": 5,
   "metadata": {},
   "outputs": [],
   "source": [
    "#    PHOTODIODE 1 READING\n",
    "\n",
    "\n",
    "# plt.figure(figsize=(10, 6), dpi=80)\n",
    "# plt.plot(Time,Pdiode1, '-r', label = 'Photodiode 1 reading')\n",
    "# plt.margins(0.05,0.13)\n",
    "# plt.title('Photodiode 1 voltage during BX30 flight', pad=20)\n",
    "# plt.xlabel('Time (s)')\n",
    "# plt.ylabel('Voltage (V)')\n",
    "# plt.legend(loc='upper center')\n",
    "# plt.grid()\n",
    "# plt.savefig('BX30_flight_data_graphs/Photodiode 1 reading.png')\n",
    "# plt.show()"
   ]
  },
  {
   "cell_type": "code",
   "execution_count": 6,
   "metadata": {},
   "outputs": [],
   "source": [
    "#    PHOTODIODE 2 READING\n",
    "\n",
    "\n",
    "# plt.figure(figsize=(10, 6), dpi=80)\n",
    "# plt.plot(Time,Pdiode2, '-r', label = 'Photodiode 2 reading')\n",
    "# plt.margins(0.05,0.13)\n",
    "# plt.title('Photodiode 2 voltage during BX30 flight', pad=20)\n",
    "# plt.xlabel('Time (s)')\n",
    "# plt.ylabel('Voltage (V)')\n",
    "# plt.legend(loc='upper center')\n",
    "# plt.grid()\n",
    "# plt.savefig('BX30_flight_data_graphs/Photodiode 2 reading.png')\n",
    "# plt.show()"
   ]
  },
  {
   "cell_type": "code",
   "execution_count": 7,
   "metadata": {},
   "outputs": [],
   "source": [
    "volt2 = []\n",
    "volt3 = [] # Empty arrays to be filled below\n",
    "currentRef = []\n",
    "currentV = []\n",
    "Disk_temp = []\n",
    "Fluid_temp = []\n",
    "L_Bubble = []\n",
    "Downlink = []\n",
    "Flow_rate = []\n",
    "Pump_action = []\n",
    "Armed = []\n",
    "\n",
    "for i in range(1,len(A)):\n",
    "    volt2.extend([(float(A[i][28])*3.3)/4096]) # conversion from raw value to voltage\n",
    "    volt3.extend([(float(A[i][29])*3.3)/4096])\n",
    "    currentRef.extend([(float(A[i][30])*3.3)/4096])\n",
    "    currentV.extend([(float(A[i][31])*3.3)/4096])\n",
    "    Disk_temp.extend([(float(A[i][3])*3.3)/4096])\n",
    "    Fluid_temp.append([(float(A[i][6])*3.3)/4096])\n",
    "    L_Bubble.append(float(A[i][42]))\n",
    "    Downlink.append(int(A[i][53]))\n",
    "    Flow_rate.append(float(A[i][41]))\n",
    "    Pump_action.append(float(A[i][49]))\n",
    "    Armed.append(int(A[i][38]))"
   ]
  },
  {
   "cell_type": "code",
   "execution_count": 8,
   "metadata": {},
   "outputs": [],
   "source": [
    "#   DISK AND FLUIDICS RTDs READINGS\n",
    "\n",
    "\n",
    "# fig, ax = plt.subplots(2,figsize=(15,10))\n",
    "# ax[0].plot(Time,Disk_temp, '-r', label = 'Disk temperature during the flight test')\n",
    "# ax[1].plot(Time,Fluid_temp, '-r', label = 'Fluid temperature during the flight test')\n",
    "# plt.margins(0.1,0.2)\n",
    "# plt.xlabel('Time (s)')\n",
    "# ax[1].legend(loc='upper center')\n",
    "# ax[0].legend(loc='upper center')\n",
    "# ax[1].grid()\n",
    "# ax[0].grid()\n",
    "# plt.savefig('BX30_flight_data_graphs/Disk and fluidics RTD readings.png')\n",
    "# plt.show()"
   ]
  },
  {
   "cell_type": "code",
   "execution_count": 9,
   "metadata": {},
   "outputs": [],
   "source": [
    "#    Filtering the anomalies in the results\n",
    "\n",
    "\n",
    "# time2 = []\n",
    "# for i in range(len(volt2)):\n",
    "#     time2.append(Time[i])\n",
    "#     for j in range(len(volt2)-1):\n",
    "#         while float(volt2[j])>float(volt2[j+1])+0.5:\n",
    "#             del volt2[j+1], time2[j+1], volt3[j+1], currentRef[j+1], currentV[j+1]"
   ]
  },
  {
   "cell_type": "code",
   "execution_count": 10,
   "metadata": {},
   "outputs": [],
   "source": [
    "#    BEXUS BATTERY VOLTAGE DURING THE BX30 FLIGHT\n",
    "\n",
    "\n",
    "# for i in range(len(volt2)):\n",
    "#     volt2[i] = volt2[i]*11 # Potential Divider conversion\n",
    "\n",
    "# plt.figure(figsize=(10, 6), dpi=80)\n",
    "# plt.plot(time2,volt2, '-r', label = 'Experiment voltage')\n",
    "# plt.margins(0.1,0.2)\n",
    "# plt.title('Experiment 28V line during the BX30 flight', pad=20)\n",
    "# plt.xlabel('Time (s)')\n",
    "# plt.ylabel('Voltage (V)')\n",
    "# plt.legend(loc='upper center')\n",
    "# plt.grid()\n",
    "# plt.savefig('BX30_flight_data_graphs/Bexus battery voltage.png')\n",
    "# plt.show()"
   ]
  },
  {
   "cell_type": "code",
   "execution_count": 11,
   "metadata": {},
   "outputs": [],
   "source": [
    "#    CURRENT DURING THE BX30 FLIGHT\n",
    "\n",
    "\n",
    "# I = [] # Current graph on the 28V line\n",
    "\n",
    "# for i in range(len(currentRef)):\n",
    "#     I.append((currentV[i]-currentRef[i])/0.23)\n",
    "\n",
    "# plt.figure(figsize=(10, 6), dpi=80)\n",
    "# plt.plot(Time, I,'-r', label = 'Current (A)')\n",
    "# plt.margins(0.1,0.2)\n",
    "# plt.title('Current draw during the BX30 flight')\n",
    "# plt.xlabel('relative_time (s)')\n",
    "# plt.ylabel('I (A)')\n",
    "# plt.legend(loc='upper center')\n",
    "# plt.grid()\n",
    "# plt.savefig('BX30_flight_data_graphs/Current during the BX30 flight.png')\n",
    "# plt.show()"
   ]
  },
  {
   "cell_type": "code",
   "execution_count": 13,
   "metadata": {},
   "outputs": [],
   "source": [
    "#     12V LINE PLOT (RELAYS AND MOTOR)\n",
    "\n",
    "\n",
    "# for i in range(len(volt3)):\n",
    "#     volt3[i] = volt3[i]*4 # Potential Divider conversion\n",
    "\n",
    "# plt.figure(figsize=(10, 6), dpi=80)\n",
    "# plt.plot(Time,volt3, '-r', label = '12V line')\n",
    "# plt.margins(0.1,0.2)\n",
    "# plt.title('12V line during the BX30 flight', pad=20)\n",
    "# plt.xlabel('Time (s)')\n",
    "# plt.ylabel('Voltage (V)')\n",
    "# plt.legend(loc='upper center')\n",
    "# plt.grid()\n",
    "# plt.savefig('BX30_flight_data_graphs/12V line (BX30).png')\n",
    "# plt.show()"
   ]
  },
  {
   "cell_type": "code",
   "execution_count": 165,
   "metadata": {},
   "outputs": [],
   "source": [
    "#    LIQUID BUBBLE SENSOR PLOT - BX30 FLIGHT\n",
    "\n",
    "\n",
    "# plt.figure(figsize=(10, 6), dpi=80)\n",
    "# plt.plot(Time,L_Bubble, '-r', label = 'Liquid bubble sensor reading')\n",
    "# plt.margins(0.05,0.13)\n",
    "# plt.title('Liquid bubble sensor voltage during BX30 flight', pad=20)\n",
    "# plt.xlabel('Time (s)')\n",
    "# plt.ylabel('Voltage (V)')\n",
    "# plt.legend(loc='upper center')\n",
    "# plt.grid()\n",
    "# plt.savefig('BX30_flight_data_graphs/Liquid bubble sensor reading.png')\n",
    "# plt.show()"
   ]
  },
  {
   "cell_type": "code",
   "execution_count": 164,
   "metadata": {},
   "outputs": [],
   "source": [
    "#    LIQUID BUBBLE SENSOR (IN DEPTH PLOT) - BX30 FLIGHT\n",
    "\n",
    "\n",
    "# fig = plt.figure(figsize=(8, 7))\n",
    "# st = fig.suptitle(\"Liquid Bubble sensor voltage\", fontsize=\"x-large\")\n",
    "# #plt.subplots_adjust(bottom = 0., left = 0, top = 1.1, right = 1)\n",
    "\n",
    "# # Create first axes, the top-left plot with green plot\n",
    "# sub1 = fig.add_subplot(2,2,1) # two rows, two columns, fist cell\n",
    "\n",
    "# # Create second axes, the top-left plot with orange plot\n",
    "# sub2 = fig.add_subplot(2,2,2) # two rows, two columns, second cell\n",
    "\n",
    "# # Create third axes, a combination of third and fourth cell\n",
    "# sub3 = fig.add_subplot(2,2,(3,4)) # two rows, two colums, combined third and fourth cell\n",
    "\n",
    "# sub1.plot(Time,L_Bubble, color = 'green')\n",
    "# sub1.set_xlim(13500,15000)\n",
    "# sub1.set_ylim(2.6,3)\n",
    "# sub1.set_xticks(np.arange(13500,15001,500))\n",
    "# sub1.grid()\n",
    "\n",
    "# sub2.plot(Time,L_Bubble, color = 'orange')\n",
    "# sub2.set_xlim(17000,18500)\n",
    "# sub2.set_ylim(2.6,3)\n",
    "# sub2.set_xticks(np.arange(17000,18501,500))\n",
    "# sub2.grid()\n",
    "\n",
    "# sub3.plot(Time,L_Bubble, color = 'darkorchid')\n",
    "# sub3.set_xlabel('Time (s)')\n",
    "# sub3.set_ylabel('Voltage (V)')\n",
    "# sub3.set_xticks(np.arange(0,25001,2500))\n",
    "# sub3.grid()\n",
    "\n",
    "# sub3.fill_between((13500,15000), 0, 3.2, facecolor='green', alpha=0.2) # blocked area for first axes\n",
    "# sub3.fill_between((17000,18500), 0, 3.2, facecolor='orange', alpha=0.2) # blocked area for second axes\n",
    "\n",
    "\n",
    "\n",
    "# # Create left side of Connection patch for first axes\n",
    "# con1 = ConnectionPatch(xyA=(13500, 2.6), coordsA=sub1.transData, \n",
    "#                        xyB=(13500, 2.6), coordsB=sub3.transData, color = 'green')\n",
    "# # Add left side to the figure\n",
    "# fig.add_artist(con1)\n",
    "\n",
    "# # Create right side of Connection patch for first axes\n",
    "# con2 = ConnectionPatch(xyA=(15000,2.6), coordsA=sub1.transData, \n",
    "#                        xyB=(15000,2.6), coordsB=sub3.transData, color = 'green')\n",
    "# # Add right side to the figure\n",
    "# fig.add_artist(con2)\n",
    "\n",
    "# # Create left side of Connection patch for second axes\n",
    "# con3 = ConnectionPatch(xyA=(17000, 2.6), coordsA=sub2.transData, \n",
    "#                        xyB=(17000, 2.6), coordsB=sub3.transData, color = 'orange')\n",
    "# # Add left side to the figure\n",
    "# fig.add_artist(con3)\n",
    "\n",
    "# # Create right side of Connection patch for second axes\n",
    "# con4 = ConnectionPatch(xyA=(18500, 2.6), coordsA=sub2.transData,\n",
    "#                        xyB=(18500, 2.6), coordsB=sub3.transData, color = 'orange')\n",
    "# # Add right side to the figure\n",
    "# fig.add_artist(con4)\n",
    "\n",
    "# plt.tight_layout(rect = [None,None,1,0.94])\n",
    "# plt.savefig('BX30_flight_data_graphs/Liquid bubble sensor reading (in depth).png')"
   ]
  },
  {
   "cell_type": "code",
   "execution_count": 200,
   "metadata": {},
   "outputs": [],
   "source": [
    "# plt.figure(figsize=(10, 6), dpi=80)\n",
    "# plt.plot(Time,Downlink, '-r', label = 'Downlink')\n",
    "# plt.margins(0.05,0.13)\n",
    "# plt.title('Downlink during BX30 flight', pad=20)\n",
    "# plt.xlabel('Time (s)')\n",
    "# plt.ylabel('Data rate?')\n",
    "# plt.legend(loc='upper center')\n",
    "# plt.grid()\n",
    "# plt.savefig('BX30_flight_data_graphs/Downlink during BX30 flight.png')\n",
    "# plt.show()"
   ]
  },
  {
   "cell_type": "code",
   "execution_count": 210,
   "metadata": {},
   "outputs": [],
   "source": [
    "#    FLUIDIC FLOW RATE - BX30 FLIGHT\n",
    "\n",
    "\n",
    "# plt.figure(figsize=(10, 6), dpi=80)\n",
    "# plt.plot(Time,Flow_rate, '-r', label = 'Flow rate')\n",
    "# plt.margins(0.05,0.13)\n",
    "# plt.title('Flow rate BX30 flight', pad=20)\n",
    "# plt.xlabel('Time (s)')\n",
    "# # plt.xlim(2500,3000)\n",
    "# plt.ylabel('Flow rate (ml/s)?')\n",
    "# plt.legend(loc='upper center')\n",
    "# plt.grid()\n",
    "# plt.savefig('BX30_flight_data_graphs/Liquid flow rate during BX30 flight.png')\n",
    "# plt.show()\n",
    "\n",
    "\n",
    "# The trough at ~14000 s matches the Liquid bubble sensor graph"
   ]
  },
  {
   "cell_type": "code",
   "execution_count": 219,
   "metadata": {},
   "outputs": [],
   "source": [
    "#    PUMP ACTUATION - BX30 FLIGHT\n",
    "\n",
    "\n",
    "# plt.figure(figsize=(10, 6), dpi=80)\n",
    "# plt.plot(Time,Pump_action, '-r', label = 'Pumping')\n",
    "# plt.margins(0.05,0.13)\n",
    "# plt.title('Pump action during the BX30 flight', pad=20)\n",
    "# plt.xlabel('Time (s)')\n",
    "# # plt.xlim(2500,3000)\n",
    "# plt.ylabel('Actuation (0/1)')\n",
    "# plt.legend(loc='upper center')\n",
    "# plt.grid()\n",
    "# plt.savefig('BX30_flight_data_graphs/Pump action during BX30 flight.png')\n",
    "# plt.show()\n",
    "\n",
    "# Matches the data from the liquid flow and liquid bubble sensors"
   ]
  },
  {
   "cell_type": "code",
   "execution_count": 284,
   "metadata": {},
   "outputs": [],
   "source": [
    "#    ARMED STATUS OF BoB - BX30 FLIGHT\n",
    "\n",
    "\n",
    "\n",
    "# BAMMsat_ARMED = []\n",
    "# BAMMsat_DISARMED = []\n",
    "# for i in range(len(Armed)-1):\n",
    "#     if Armed[i]-Armed[i+1] == -1:\n",
    "#         BAMMsat_ARMED.append(Time[i])\n",
    "#     elif Armed[i]-Armed[i+1] == 1:\n",
    "#         BAMMsat_DISARMED.append(Time[i])\n",
    "\n",
    "\n",
    "# plt.figure(figsize=(10, 6), dpi=80)\n",
    "# plt.plot(Time,Armed, '-r', label = 'Armed status')\n",
    "# plt.margins(0.05,0.13)\n",
    "# plt.title('Armed status during BX30 flight (Operational time = ' \n",
    "#           + str(round((BAMMsat_DISARMED[0]-BAMMsat_ARMED[0])/3600,2)) + ' Hrs)', pad=20)\n",
    "# plt.xticks(np.arange(0,25001,2500))\n",
    "# plt.xlabel('Time (s)')\n",
    "# plt.yticks(np.arange(0,1.1,1))\n",
    "# plt.ylabel('Status')\n",
    "# plt.legend(loc='upper center')\n",
    "# plt.grid()\n",
    "# plt.savefig('BX30_flight_data_graphs/Armed status during BX30 flight.png')\n",
    "# plt.show()"
   ]
  },
  {
   "cell_type": "code",
   "execution_count": 305,
   "metadata": {},
   "outputs": [
    {
     "name": "stdout",
     "output_type": "stream",
     "text": [
      "['0 time', '1 id', '2 idSession', '3 temp3 - Disc', '4 pwmHeater1', '5 tcsMem1', '6 temp4 - Fluid', '7 pwmHeater2', '8 tcsMem2', '9 temp5 - Valves', '10 pwmHeater3', '11 tcsMem3', '12 temp1', '13 temp2', '14 temp6', '15 temp8', '16 temp7', '17 tempBME', '18 pressure1', '19 humidity', '20 motorLastPos', '21 motorCurPos', '22 motorTargetPos', '23 motorMoving', '24 chamberAligned', '25 motorError', '26 pdiode1', '27 pdiode2', '28 volt2', '29 volt3', '30 currentRef', '31 currentV', '32 heater1energy', '33 heater2energy', '34 heater3energy', '35 flightStage', '36 curOperation', '37 countdown', '38 armed', '39 mode', '40 maxBandwidth', '41 flowRate', '42 liqBubble', '43 valve1', '44 valve2', '45 valve3', '46 valve4', '47 valve5', '48 valve6', '49 pump', '50 pumpTimeTotal', '51 pumpTimeElapsed', '52 imaging', '53 downlink', '54 shutdownLock', '55 allowSoftReset', '56 healthCamera', '57 healthBME', '58 healthGPIO', '59 healthFlow', '60 healthMCU', '61 h1t1', '62 h1t2', '63 h1t3', '64 h1t4', '65 h2t1', '66 h2t2', '67 h2t3', '68 h2t4', '69 h3t1', '70 h3t2', '71 h3t3', '72 h3t4', '73 h1p1', '74 h1p2', '75 h1p3', '76 h1p4', '77 h2p1', '78 h2p2', '79 h2p3', '80 h2p4', '81 h3p1', '82 h3p2', '83 h3p3', '84 h3p4']\n"
     ]
    }
   ],
   "source": [
    "print(A0)"
   ]
  },
  {
   "cell_type": "code",
   "execution_count": null,
   "metadata": {},
   "outputs": [],
   "source": []
  }
 ],
 "metadata": {
  "kernelspec": {
   "display_name": "Python 3",
   "language": "python",
   "name": "python3"
  },
  "language_info": {
   "codemirror_mode": {
    "name": "ipython",
    "version": 3
   },
   "file_extension": ".py",
   "mimetype": "text/x-python",
   "name": "python",
   "nbconvert_exporter": "python",
   "pygments_lexer": "ipython3",
   "version": "3.7.4"
  }
 },
 "nbformat": 4,
 "nbformat_minor": 2
}
